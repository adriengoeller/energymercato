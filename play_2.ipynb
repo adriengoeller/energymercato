{
 "cells": [
  {
   "cell_type": "code",
   "execution_count": 1,
   "metadata": {},
   "outputs": [
    {
     "name": "stdout",
     "output_type": "stream",
     "text": [
      "creation of specific plant for France\n"
     ]
    }
   ],
   "source": [
    "from energymercato.setup.starting import SpotSetup, RealTimeSetup"
   ]
  },
  {
   "cell_type": "code",
   "execution_count": 3,
   "metadata": {},
   "outputs": [
    {
     "name": "stdout",
     "output_type": "stream",
     "text": [
      "path  /mnt/g/Mon Drive/Cours/2025/SEM SGB is existing ? True\n",
      "================================================================================\n",
      "Initialization of SPOT Market with parameters :\n",
      "================================================================================\n",
      "- legal client price : 60€\n",
      "penalty price for J-1 : 300€/MWh\n",
      "ARENH Price and volume proportion: 50€/MWh / 0.25%\n"
     ]
    }
   ],
   "source": [
    "path = \"/mnt/g/Mon Drive/Cours/2025/SEM SGB/energymercato/\"\n",
    "# G:\\Mon Drive\\Cours\\2025\\SEM SGB\n",
    "# path = \"./usetests/try/\"\n",
    "spot = SpotSetup(path, \n",
    "                 solo=False,\n",
    "                 client_price=60,\n",
    "                 penalty_price_j1=300,\n",
    "                 arenh_price=50,\n",
    "                 arenh_proportion=.25\n",
    "                 )"
   ]
  },
  {
   "cell_type": "code",
   "execution_count": 5,
   "metadata": {},
   "outputs": [
    {
     "name": "stdout",
     "output_type": "stream",
     "text": [
      "defining players...\n",
      "================================================================================\n",
      "Power consumption is taken on Pmax = 48332.7 = self.total_power-self.total_power_enr)*0.85\n"
     ]
    }
   ],
   "source": [
    "from datetime import datetime\n",
    "# Setup game\n",
    "spot.generate_players()\n",
    "spot.simulate_game_data(dt = datetime(2025,1,4), p_max_margin=.85)"
   ]
  },
  {
   "cell_type": "code",
   "execution_count": 6,
   "metadata": {},
   "outputs": [
    {
     "name": "stdout",
     "output_type": "stream",
     "text": [
      "================================================================================\n",
      "Welcome in the SPOT Market of day 2025-01-05 !\n",
      "================================================================================\n",
      "Simulating weather and consumption...\n",
      "...ok\n",
      "================================================================================\n",
      "Writing to file\n"
     ]
    }
   ],
   "source": [
    "spot.change_round_day()"
   ]
  },
  {
   "cell_type": "code",
   "execution_count": null,
   "metadata": {},
   "outputs": [],
   "source": []
  },
  {
   "cell_type": "code",
   "execution_count": 7,
   "metadata": {},
   "outputs": [
    {
     "data": {
      "text/plain": [
       "<Axes: >"
      ]
     },
     "execution_count": 7,
     "metadata": {},
     "output_type": "execute_result"
    },
    {
     "data": {
      "image/png": "[encoded data removed]",
      "text/plain": [
       "<Figure size 432x288 with 1 Axes>"
      ]
     },
     "metadata": {
      "needs_background": "light"
     },
     "output_type": "display_data"
    }
   ],
   "source": [
    "spot.plot_conso()"
   ]
  },
  {
   "cell_type": "code",
   "execution_count": 8,
   "metadata": {},
   "outputs": [
    {
     "ename": "AttributeError",
     "evalue": "'SpotSetup' object has no attribute 'd_fixing'",
     "output_type": "error",
     "traceback": [
      "\u001b[0;31m---------------------------------------------------------------------------\u001b[0m",
      "\u001b[0;31mAttributeError\u001b[0m                            Traceback (most recent call last)",
      "Input \u001b[0;32mIn [8]\u001b[0m, in \u001b[0;36m<cell line: 1>\u001b[0;34m()\u001b[0m\n\u001b[0;32m----> 1\u001b[0m \u001b[43mspot\u001b[49m\u001b[38;5;241;43m.\u001b[39;49m\u001b[43md_fixing\u001b[49m\n",
      "\u001b[0;31mAttributeError\u001b[0m: 'SpotSetup' object has no attribute 'd_fixing'"
     ]
    }
   ],
   "source": [
    "spot.d_fixing"
   ]
  },
  {
   "cell_type": "code",
   "execution_count": 9,
   "metadata": {},
   "outputs": [
    {
     "name": "stdout",
     "output_type": "stream",
     "text": [
      "================================================================================\n",
      "Fixing market automatic process...\n",
      "================================================================================\n",
      "waiting for filling...\n"
     ]
    },
    {
     "name": "stderr",
     "output_type": "stream",
     "text": [
      "/home/projects/energymercato/energymercato/venv/lib/python3.8/site-packages/pandas/core/indexes/base.py:6982: FutureWarning: In a future version, the Index constructor will not infer numeric dtypes when passed object-dtype sequences (matching Series behavior)\n",
      "  return Index(sequences[0], name=names)\n",
      "/home/projects/energymercato/energymercato/venv/lib/python3.8/site-packages/pandas/core/indexes/base.py:6982: FutureWarning: In a future version, the Index constructor will not infer numeric dtypes when passed object-dtype sequences (matching Series behavior)\n",
      "  return Index(sequences[0], name=names)\n"
     ]
    },
    {
     "data": {
      "text/plain": [
       "<Axes: xlabel='cumsum_p_max'>"
      ]
     },
     "execution_count": 9,
     "metadata": {},
     "output_type": "execute_result"
    },
    {
     "data": {
      "image/png": "[encoded data removed]",
      "text/plain": [
       "<Figure size 432x288 with 1 Axes>"
      ]
     },
     "metadata": {
      "needs_background": "light"
     },
     "output_type": "display_data"
    },
    {
     "data": {
      "image/png": "[encoded data removed]",
      "text/plain": [
       "<Figure size 432x288 with 1 Axes>"
      ]
     },
     "metadata": {
      "needs_background": "light"
     },
     "output_type": "display_data"
    }
   ],
   "source": [
    "spot.fix_market()\n",
    "spot.plot_fixing(12)\n",
    "spot.plot_fixing(1)"
   ]
  },
  {
   "cell_type": "code",
   "execution_count": 10,
   "metadata": {},
   "outputs": [],
   "source": [
    "from pathlib import Path\n",
    "\n",
    "import pandas as pd\n",
    "\n",
    "\n",
    "def check_j_prev(path):\n",
    "    path = Path(path)\n",
    "    \n",
    "    try:\n",
    "        if not path.exists():\n",
    "            raise FileNotFoundError\n",
    "\n",
    "        dj = pd.read_csv(path, sep=\";\")\n",
    "        if not all(item in dj.columns for item in ['hour','Name','type', 'p_min', 'p_max', 'mwh_cost', 'p'] ):\n",
    "            for item in ['hour','Name','type', 'p_min', 'p_max', 'cost', 'mwh_cost', 'p']:\n",
    "                if not item in dj.columns:\n",
    "                    print(item)\n",
    "            raise ValueError(\"Columns not all in ['hour', 'Name','type', 'p_min', 'p_max', 'mwh_cost', 'p']\" )\n",
    "        return dj\n",
    "    except (ValueError,FileNotFoundError):\n",
    "        print(\"error\")\n",
    "\n",
    "def check_j_market_cmd(path):\n",
    "    path = Path(path)\n",
    "    \n",
    "    try:\n",
    "        if not path.exists():\n",
    "            raise FileNotFoundError\n",
    "\n",
    "        dj = pd.read_csv(path, sep=\";\")\n",
    "        if not all(item in dj.columns for item in [\"mwh_price\",\"hour\",\"buy_mwh\"] ):\n",
    "            for item in [\"mwh_price\",\"hour\",\"buy_mwh\"]:\n",
    "                if not item in dj.columns:\n",
    "                    print(item)\n",
    "            raise ValueError(\"Columns not all in 'mwh_price','hour'','buy_mwh'\" )\n",
    "        return dj\n",
    "    except (ValueError,FileNotFoundError):\n",
    "        print(\"check error\")"
   ]
  },
  {
   "cell_type": "code",
   "execution_count": 103,
   "metadata": {},
   "outputs": [
    {
     "name": "stdout",
     "output_type": "stream",
     "text": [
      "              Name        type  p_min   p_max  mwh_cost  hour  p\n",
      "0            t_sol  SolarPlant    0.0     0.0         6     0  0\n",
      "1           t_wind   WindPlant    0.0  3973.0        12     0  0\n",
      "2    alpiq_hydro_3  HydroPlant    0.0    30.0        34     0  0\n",
      "3       marcinelle    GasPlant  100.0   450.0       154     0  0\n",
      "4            bayet    GasPlant   80.0   360.0       138     0  0\n",
      "..             ...         ...    ...     ...       ...   ... ..\n",
      "163  alpiq_hydro_3  HydroPlant    0.0    31.0        34    23  0\n",
      "164     marcinelle    GasPlant  100.0   450.0       154    23  0\n",
      "165          bayet    GasPlant   80.0   360.0       138    23  0\n",
      "166           fos3    GasPlant  108.0   486.0       128    23  0\n",
      "167       camargue  SolarPlant    0.0     0.0         5    23  0\n",
      "\n",
      "[168 rows x 7 columns]\n",
      "    mwh_price  hour  buy_mwh\n",
      "0          51     0        0\n",
      "1          49     1        0\n",
      "2          42     2        0\n",
      "3          49     3        0\n",
      "4          42     4        0\n",
      "5          42     5        0\n",
      "6          42     6        0\n",
      "7          49     7        0\n",
      "8          51     8        0\n",
      "9          49     9        0\n",
      "10         55    10        0\n",
      "11         42    11        0\n",
      "12         51    12        0\n",
      "13         49    13        0\n",
      "14         51    14        0\n",
      "15         49    15        0\n",
      "16         49    16        0\n",
      "17         49    17        0\n",
      "18         49    18        0\n",
      "19         51    19        0\n",
      "20         51    20        0\n",
      "21         49    21        0\n",
      "22         49    22        0\n",
      "23         51    23        0\n"
     ]
    }
   ],
   "source": [
    "ppp = \"totalnrj\"\n",
    "print(check_j_prev(path+ppp+\"/\"+ppp+\"_j_prev.csv\"))\n",
    "print(check_j_market_cmd(path+ppp+\"/\"+ppp+\"_j_cmd.csv\"))"
   ]
  },
  {
   "cell_type": "code",
   "execution_count": 104,
   "metadata": {},
   "outputs": [
    {
     "name": "stdout",
     "output_type": "stream",
     "text": [
      "================================================================================\n",
      "ok for production orders\n",
      "================================================================================\n",
      "ok for market orders\n"
     ]
    }
   ],
   "source": [
    "spot.read_prev_from_players()"
   ]
  },
  {
   "cell_type": "code",
   "execution_count": 105,
   "metadata": {},
   "outputs": [],
   "source": [
    "spot.compute_scores()"
   ]
  },
  {
   "cell_type": "code",
   "execution_count": 106,
   "metadata": {},
   "outputs": [],
   "source": [
    "spot.get_scores()"
   ]
  },
  {
   "attachments": {},
   "cell_type": "markdown",
   "metadata": {},
   "source": [
    "Let's play for Real Time !"
   ]
  },
  {
   "cell_type": "code",
   "execution_count": 107,
   "metadata": {},
   "outputs": [],
   "source": [
    "from energymercato.setup.starting import save, load\n",
    "save(spot,\"usetests/data/spot_240505.pkl\")\n",
    "# spot = load(\"usetests/data/spot.pkl\")"
   ]
  },
  {
   "cell_type": "code",
   "execution_count": null,
   "metadata": {},
   "outputs": [],
   "source": [
    "# import pickle\n",
    "\n",
    "\n",
    "# with open(\"usetests/data/spot.pkl\", 'rb') as outp:\n",
    "#     o = pickle.load(outp)"
   ]
  },
  {
   "cell_type": "code",
   "execution_count": 108,
   "metadata": {},
   "outputs": [
    {
     "name": "stdout",
     "output_type": "stream",
     "text": [
      "Initialization of Real Time Market with parameters:\n",
      "- Real time spot price: 150\n",
      "- Transaction price: 1000\n",
      "================================================================================\n",
      "ready for next phase\n"
     ]
    }
   ],
   "source": [
    "realtime = RealTimeSetup(spot,spot_price = 150, transaction_price = 1000)"
   ]
  },
  {
   "cell_type": "code",
   "execution_count": 114,
   "metadata": {},
   "outputs": [
    {
     "name": "stdout",
     "output_type": "stream",
     "text": [
      "================================================================================\n",
      " Welcome in the Real Time Market of day 2024-06-06 at 1h !\n",
      "================================================================================\n",
      "Real consumption = 46345\n",
      "Real Production = 38899\n",
      "Balance = 7446\n",
      "================================================================================\n",
      "Go to spot file and fill spot column with adjustment to reach balance = 0\n",
      "================================================================================\n",
      "Ready for balancing\n",
      " Difference of Real Consumption with SPOT is 7446\n"
     ]
    }
   ],
   "source": [
    "realtime.start_spot()"
   ]
  },
  {
   "cell_type": "code",
   "execution_count": 115,
   "metadata": {},
   "outputs": [
    {
     "name": "stdout",
     "output_type": "stream",
     "text": [
      "================================================================================\n",
      "Balance was 7446. It is now 7446\n",
      "================================================================================\n",
      "Balance is not adjusted\n"
     ]
    }
   ],
   "source": [
    "realtime.read_spot()"
   ]
  },
  {
   "cell_type": "code",
   "execution_count": 116,
   "metadata": {},
   "outputs": [
    {
     "name": "stdout",
     "output_type": "stream",
     "text": [
      "================================================================================\n",
      "You have 0.25 x 20 minutes before blackout\n",
      "Tic, Toc... Blackout is coming : 1x0.25 min already spent\n",
      "================================================================================\n",
      "Balance was 7446. It is now 7446\n",
      "================================================================================\n",
      "Balance is not adjusted\n",
      "================================================================================\n",
      "Balance left : 7446\n",
      "Tic, Toc... Blackout is coming : 2x0.25 min already spent\n",
      "================================================================================\n",
      "Balance was 7446. It is now 7446\n",
      "================================================================================\n",
      "Balance is not adjusted\n",
      "================================================================================\n",
      "Balance left : 7446\n",
      "Tic, Toc... Blackout is coming : 3x0.25 min already spent\n",
      "================================================================================\n",
      "Some players are trying to get down the system...\n",
      "================================================================================\n",
      "11    cnr\n",
      "Name: player, dtype: object\n",
      "================================================================================\n",
      "This is a warning, DGSE has been warned\n",
      "================================================================================\n",
      "Balance left : 7446\n",
      "Tic, Toc... Blackout is coming : 4x0.25 min already spent\n",
      "================================================================================\n",
      "Some players are trying to get down the system...\n",
      "================================================================================\n",
      "11    cnr\n",
      "Name: player, dtype: object\n",
      "================================================================================\n",
      "This is a warning, DGSE has been warned\n",
      "================================================================================\n",
      "Balance left : 7446\n",
      "Tic, Toc... Blackout is coming : 5x0.25 min already spent\n",
      "================================================================================\n",
      "Some players are trying to get down the system...\n",
      "================================================================================\n",
      "18    gazel\n",
      "Name: player, dtype: object\n",
      "================================================================================\n",
      "This is a warning, DGSE has been warned\n",
      "================================================================================\n",
      "Balance left : 7446\n",
      "Tic, Toc... Blackout is coming : 6x0.25 min already spent\n",
      "================================================================================\n",
      "Some players are trying to get down the system...\n",
      "================================================================================\n",
      "22    alpiq\n",
      "Name: player, dtype: object\n",
      "================================================================================\n",
      "This is a warning, DGSE has been warned\n",
      "================================================================================\n",
      "Balance left : 7446\n",
      "Tic, Toc... Blackout is coming : 7x0.25 min already spent\n",
      "================================================================================\n",
      "Balance was 7446. It is now 2996\n",
      "================================================================================\n",
      "Balance is not adjusted\n",
      "================================================================================\n",
      "Balance left : 2996\n",
      "Tic, Toc... Blackout is coming : 8x0.25 min already spent\n",
      "================================================================================\n",
      "Balance was 2996. It is now 2996\n",
      "================================================================================\n",
      "Balance is not adjusted\n",
      "================================================================================\n",
      "Balance left : 2996\n",
      "Tic, Toc... Blackout is coming : 9x0.25 min already spent\n",
      "================================================================================\n",
      "Balance was 2996. It is now 0\n",
      "================================================================================\n",
      "Balance is adjusted !\n",
      "================================================================================\n",
      "Ready for computing scores\n"
     ]
    }
   ],
   "source": [
    "realtime.wait_for_adjustment(.25, 20)"
   ]
  },
  {
   "cell_type": "code",
   "execution_count": 117,
   "metadata": {},
   "outputs": [
    {
     "name": "stdout",
     "output_type": "stream",
     "text": [
      "================================================================================\n",
      " End of SPOT for hour 1\n",
      "Please start for next hour\n",
      "================================================================================\n"
     ]
    }
   ],
   "source": [
    "realtime.compute_score()"
   ]
  },
  {
   "cell_type": "code",
   "execution_count": 118,
   "metadata": {},
   "outputs": [],
   "source": [
    "spot.get_scores()"
   ]
  }
 ],
 "metadata": {
  "kernelspec": {
   "display_name": "venv",
   "language": "python",
   "name": "python3"
  },
  "language_info": {
   "codemirror_mode": {
    "name": "ipython",
    "version": 3
   },
   "file_extension": ".py",
   "mimetype": "text/x-python",
   "name": "python",
   "nbconvert_exporter": "python",
   "pygments_lexer": "ipython3",
   "version": "3.8.10"
  },
  "orig_nbformat": 4,
  "vscode": {
   "interpreter": {
    "hash": "f411370ca252c843e234ecdabbab3e27cab4b9e6432fdfda390e2edacac71163"
   }
  }
 },
 "nbformat": 4,
 "nbformat_minor": 2
}
