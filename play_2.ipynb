{
 "cells": [
  {
   "cell_type": "code",
   "execution_count": 2,
   "metadata": {},
   "outputs": [
    {
     "name": "stdout",
     "output_type": "stream",
     "text": [
      "creation of specific plant for France\n"
     ]
    }
   ],
   "source": [
    "from energymercato.setup.starting import SpotSetup, RealTimeSetup"
   ]
  },
  {
   "cell_type": "code",
   "execution_count": 3,
   "metadata": {},
   "outputs": [
    {
     "name": "stdout",
     "output_type": "stream",
     "text": [
      "path  /mnt/g/Mon Drive/SEM is existing ? True\n"
     ]
    }
   ],
   "source": [
    "path = \"/mnt/g/Mon Drive/SEM/energymercato/\"\n",
    "spot = SpotSetup(path, solo=False)"
   ]
  },
  {
   "cell_type": "code",
   "execution_count": 4,
   "metadata": {},
   "outputs": [
    {
     "name": "stdout",
     "output_type": "stream",
     "text": [
      "defining players...\n",
      "Power consumption is taken on Pmax = 52361.149999999994 = self.total_power-self.total_power_enr)*.95\n"
     ]
    }
   ],
   "source": [
    "# Setup game\n",
    "spot.generate_players()\n",
    "spot.simulate_game_data()"
   ]
  },
  {
   "cell_type": "code",
   "execution_count": 5,
   "metadata": {},
   "outputs": [],
   "source": [
    "spot.change_round_day()"
   ]
  },
  {
   "cell_type": "code",
   "execution_count": 6,
   "metadata": {},
   "outputs": [
    {
     "name": "stdout",
     "output_type": "stream",
     "text": [
      "waiting for filling...\n"
     ]
    }
   ],
   "source": [
    "spot.fix_market()"
   ]
  },
  {
   "cell_type": "code",
   "execution_count": 7,
   "metadata": {},
   "outputs": [
    {
     "name": "stdout",
     "output_type": "stream",
     "text": [
      "ok for production orders\n",
      "ok for market orders\n"
     ]
    }
   ],
   "source": [
    "spot.read_prev_from_players()"
   ]
  },
  {
   "cell_type": "code",
   "execution_count": 8,
   "metadata": {},
   "outputs": [
    {
     "name": "stderr",
     "output_type": "stream",
     "text": [
      "/home/projects/energymercato/energymercato/src/energymercato/usecases/usecases.py:158: SettingWithCopyWarning: \n",
      "A value is trying to be set on a copy of a slice from a DataFrame.\n",
      "Try using .loc[row_indexer,col_indexer] = value instead\n",
      "\n",
      "See the caveats in the documentation: https://pandas.pydata.org/pandas-docs/stable/user_guide/indexing.html#returning-a-view-versus-a-copy\n",
      "  a[\"amount\"] = -a[\"mwh_cost\"] * a[\"p\"]\n",
      "/home/projects/energymercato/energymercato/src/energymercato/usecases/usecases.py:158: SettingWithCopyWarning: \n",
      "A value is trying to be set on a copy of a slice from a DataFrame.\n",
      "Try using .loc[row_indexer,col_indexer] = value instead\n",
      "\n",
      "See the caveats in the documentation: https://pandas.pydata.org/pandas-docs/stable/user_guide/indexing.html#returning-a-view-versus-a-copy\n",
      "  a[\"amount\"] = -a[\"mwh_cost\"] * a[\"p\"]\n",
      "/home/projects/energymercato/energymercato/src/energymercato/usecases/usecases.py:158: SettingWithCopyWarning: \n",
      "A value is trying to be set on a copy of a slice from a DataFrame.\n",
      "Try using .loc[row_indexer,col_indexer] = value instead\n",
      "\n",
      "See the caveats in the documentation: https://pandas.pydata.org/pandas-docs/stable/user_guide/indexing.html#returning-a-view-versus-a-copy\n",
      "  a[\"amount\"] = -a[\"mwh_cost\"] * a[\"p\"]\n",
      "/home/projects/energymercato/energymercato/src/energymercato/usecases/usecases.py:158: SettingWithCopyWarning: \n",
      "A value is trying to be set on a copy of a slice from a DataFrame.\n",
      "Try using .loc[row_indexer,col_indexer] = value instead\n",
      "\n",
      "See the caveats in the documentation: https://pandas.pydata.org/pandas-docs/stable/user_guide/indexing.html#returning-a-view-versus-a-copy\n",
      "  a[\"amount\"] = -a[\"mwh_cost\"] * a[\"p\"]\n",
      "/home/projects/energymercato/energymercato/src/energymercato/usecases/usecases.py:158: SettingWithCopyWarning: \n",
      "A value is trying to be set on a copy of a slice from a DataFrame.\n",
      "Try using .loc[row_indexer,col_indexer] = value instead\n",
      "\n",
      "See the caveats in the documentation: https://pandas.pydata.org/pandas-docs/stable/user_guide/indexing.html#returning-a-view-versus-a-copy\n",
      "  a[\"amount\"] = -a[\"mwh_cost\"] * a[\"p\"]\n",
      "/home/projects/energymercato/energymercato/src/energymercato/usecases/usecases.py:158: SettingWithCopyWarning: \n",
      "A value is trying to be set on a copy of a slice from a DataFrame.\n",
      "Try using .loc[row_indexer,col_indexer] = value instead\n",
      "\n",
      "See the caveats in the documentation: https://pandas.pydata.org/pandas-docs/stable/user_guide/indexing.html#returning-a-view-versus-a-copy\n",
      "  a[\"amount\"] = -a[\"mwh_cost\"] * a[\"p\"]\n",
      "/home/projects/energymercato/energymercato/src/energymercato/usecases/usecases.py:175: SettingWithCopyWarning: \n",
      "A value is trying to be set on a copy of a slice from a DataFrame.\n",
      "Try using .loc[row_indexer,col_indexer] = value instead\n",
      "\n",
      "See the caveats in the documentation: https://pandas.pydata.org/pandas-docs/stable/user_guide/indexing.html#returning-a-view-versus-a-copy\n",
      "  aa[\"player\"] = p.name\n",
      "/home/projects/energymercato/energymercato/src/energymercato/usecases/usecases.py:175: SettingWithCopyWarning: \n",
      "A value is trying to be set on a copy of a slice from a DataFrame.\n",
      "Try using .loc[row_indexer,col_indexer] = value instead\n",
      "\n",
      "See the caveats in the documentation: https://pandas.pydata.org/pandas-docs/stable/user_guide/indexing.html#returning-a-view-versus-a-copy\n",
      "  aa[\"player\"] = p.name\n",
      "/home/projects/energymercato/energymercato/src/energymercato/usecases/usecases.py:175: SettingWithCopyWarning: \n",
      "A value is trying to be set on a copy of a slice from a DataFrame.\n",
      "Try using .loc[row_indexer,col_indexer] = value instead\n",
      "\n",
      "See the caveats in the documentation: https://pandas.pydata.org/pandas-docs/stable/user_guide/indexing.html#returning-a-view-versus-a-copy\n",
      "  aa[\"player\"] = p.name\n",
      "/home/projects/energymercato/energymercato/src/energymercato/usecases/usecases.py:175: SettingWithCopyWarning: \n",
      "A value is trying to be set on a copy of a slice from a DataFrame.\n",
      "Try using .loc[row_indexer,col_indexer] = value instead\n",
      "\n",
      "See the caveats in the documentation: https://pandas.pydata.org/pandas-docs/stable/user_guide/indexing.html#returning-a-view-versus-a-copy\n",
      "  aa[\"player\"] = p.name\n",
      "/home/projects/energymercato/energymercato/src/energymercato/usecases/usecases.py:175: SettingWithCopyWarning: \n",
      "A value is trying to be set on a copy of a slice from a DataFrame.\n",
      "Try using .loc[row_indexer,col_indexer] = value instead\n",
      "\n",
      "See the caveats in the documentation: https://pandas.pydata.org/pandas-docs/stable/user_guide/indexing.html#returning-a-view-versus-a-copy\n",
      "  aa[\"player\"] = p.name\n",
      "/home/projects/energymercato/energymercato/src/energymercato/usecases/usecases.py:175: SettingWithCopyWarning: \n",
      "A value is trying to be set on a copy of a slice from a DataFrame.\n",
      "Try using .loc[row_indexer,col_indexer] = value instead\n",
      "\n",
      "See the caveats in the documentation: https://pandas.pydata.org/pandas-docs/stable/user_guide/indexing.html#returning-a-view-versus-a-copy\n",
      "  aa[\"player\"] = p.name\n",
      "/home/projects/energymercato/energymercato/src/energymercato/usecases/usecases.py:189: SettingWithCopyWarning: \n",
      "A value is trying to be set on a copy of a slice from a DataFrame\n",
      "\n",
      "See the caveats in the documentation: https://pandas.pydata.org/pandas-docs/stable/user_guide/indexing.html#returning-a-view-versus-a-copy\n",
      "  df_power.p_sale[df_power.p_sale < 0] = 0.0\n"
     ]
    }
   ],
   "source": [
    "spot.compute_scores()"
   ]
  },
  {
   "cell_type": "code",
   "execution_count": 9,
   "metadata": {},
   "outputs": [],
   "source": [
    "spot.get_scores()"
   ]
  },
  {
   "cell_type": "code",
   "execution_count": 14,
   "metadata": {},
   "outputs": [],
   "source": [
    "spot.fix_market()"
   ]
  },
  {
   "attachments": {},
   "cell_type": "markdown",
   "metadata": {},
   "source": [
    "Let's play for SPOT !"
   ]
  },
  {
   "cell_type": "code",
   "execution_count": 10,
   "metadata": {},
   "outputs": [
    {
     "name": "stdout",
     "output_type": "stream",
     "text": [
      "================================================================================\n",
      "ready for next phase\n"
     ]
    }
   ],
   "source": [
    "realtime = RealTimeSetup(spot)"
   ]
  },
  {
   "cell_type": "code",
   "execution_count": 11,
   "metadata": {},
   "outputs": [
    {
     "name": "stdout",
     "output_type": "stream",
     "text": [
      "================================================================================\n",
      " Welcome in the SPOT Market of day 2022-01-16 at 0h !\n",
      "================================================================================\n",
      "Real consumption = 36664\n",
      "Real Production = 15311\n",
      "Balance = 21353\n",
      "================================================================================\n",
      "Go to spot file and fill spot column with adjustment to reach balance = 0\n",
      "================================================================================\n",
      "Ready for balancing\n",
      " Difference of Real Consumption with SPOT is 21353\n"
     ]
    }
   ],
   "source": [
    "realtime.start_spot()"
   ]
  },
  {
   "cell_type": "code",
   "execution_count": 32,
   "metadata": {},
   "outputs": [
    {
     "name": "stdout",
     "output_type": "stream",
     "text": [
      "================================================================================\n",
      "Balance was 941. It is now 4043\n",
      "================================================================================\n",
      "Balance is not adjusted\n"
     ]
    },
    {
     "name": "stderr",
     "output_type": "stream",
     "text": [
      "/home/projects/energymercato/energymercato/src/energymercato/usecases/usecases.py:280: SettingWithCopyWarning: \n",
      "A value is trying to be set on a copy of a slice from a DataFrame\n",
      "\n",
      "See the caveats in the documentation: https://pandas.pydata.org/pandas-docs/stable/user_guide/indexing.html#returning-a-view-versus-a-copy\n",
      "  dj.loc[dj.p > dj.p_max,\"p\"] = dj.loc[dj.p > dj.p_max,\"p_max\"].copy()\n",
      "/home/projects/energymercato/energymercato/src/energymercato/usecases/usecases.py:281: SettingWithCopyWarning: \n",
      "A value is trying to be set on a copy of a slice from a DataFrame\n",
      "\n",
      "See the caveats in the documentation: https://pandas.pydata.org/pandas-docs/stable/user_guide/indexing.html#returning-a-view-versus-a-copy\n",
      "  dj.loc[dj.p < dj.p_min,\"p\"] = dj.loc[dj.p < dj.p_min,\"p_min\"].copy()\n",
      "/home/projects/energymercato/energymercato/src/energymercato/usecases/usecases.py:282: SettingWithCopyWarning: \n",
      "A value is trying to be set on a copy of a slice from a DataFrame\n",
      "\n",
      "See the caveats in the documentation: https://pandas.pydata.org/pandas-docs/stable/user_guide/indexing.html#returning-a-view-versus-a-copy\n",
      "  dj.loc[dj.p < 0] = 0\n"
     ]
    }
   ],
   "source": [
    "realtime.read_spot()"
   ]
  },
  {
   "cell_type": "code",
   "execution_count": null,
   "metadata": {},
   "outputs": [],
   "source": [
    "realtime.wait_for_adjustment()"
   ]
  },
  {
   "cell_type": "code",
   "execution_count": 33,
   "metadata": {},
   "outputs": [
    {
     "ename": "AttributeError",
     "evalue": "'DataFrame' object has no attribute 'spot_changes'",
     "output_type": "error",
     "traceback": [
      "\u001b[0;31m---------------------------------------------------------------------------\u001b[0m",
      "\u001b[0;31mAttributeError\u001b[0m                            Traceback (most recent call last)",
      "\u001b[1;32m/home/projects/energymercato/energymercato/play_2.ipynb Cell 14\u001b[0m in \u001b[0;36m<cell line: 1>\u001b[0;34m()\u001b[0m\n\u001b[0;32m----> <a href='vscode-notebook-cell://wsl%2Bubuntu-20.04/home/projects/energymercato/energymercato/play_2.ipynb#X16sdnNjb2RlLXJlbW90ZQ%3D%3D?line=0'>1</a>\u001b[0m realtime\u001b[39m.\u001b[39;49mcompute_score()\n",
      "File \u001b[0;32m/home/projects/energymercato/energymercato/src/energymercato/setup/starting.py:102\u001b[0m, in \u001b[0;36mRealTimeSetup.compute_score\u001b[0;34m(self)\u001b[0m\n\u001b[1;32m    101\u001b[0m \u001b[39mdef\u001b[39;00m \u001b[39mcompute_score\u001b[39m(\u001b[39mself\u001b[39m):\n\u001b[0;32m--> 102\u001b[0m     compute_score_hour(\u001b[39mself\u001b[39;49m\u001b[39m.\u001b[39;49mspot_setup\u001b[39m.\u001b[39;49mplayers,\u001b[39mself\u001b[39;49m\u001b[39m.\u001b[39;49mtransaction, \u001b[39mself\u001b[39;49m\u001b[39m.\u001b[39;49mtransaction_price, \u001b[39mself\u001b[39;49m\u001b[39m.\u001b[39;49mh, \u001b[39mself\u001b[39;49m\u001b[39m.\u001b[39;49mspot_price, \u001b[39mself\u001b[39;49m\u001b[39m.\u001b[39;49mdf_spot, \u001b[39mself\u001b[39;49m\u001b[39m.\u001b[39;49mspot_setup\u001b[39m.\u001b[39;49mdt)\n\u001b[1;32m    103\u001b[0m     \u001b[39mprint\u001b[39m(\u001b[39m\"\u001b[39m\u001b[39m=\u001b[39m\u001b[39m\"\u001b[39m\u001b[39m*\u001b[39m\u001b[39m80\u001b[39m\u001b[39m+\u001b[39m\u001b[39mf\u001b[39m\u001b[39m\"\u001b[39m\u001b[39m\\n\u001b[39;00m\u001b[39m End of SPOT for hour \u001b[39m\u001b[39m{\u001b[39;00m\u001b[39mself\u001b[39m\u001b[39m.\u001b[39mh\u001b[39m}\u001b[39;00m\u001b[39m\"\u001b[39m)\n\u001b[1;32m    104\u001b[0m     \u001b[39mprint\u001b[39m(\u001b[39m\"\u001b[39m\u001b[39mPlease start for next hour\u001b[39m\u001b[39m\"\u001b[39m\u001b[39m+\u001b[39m\u001b[39m\"\u001b[39m\u001b[39m\\n\u001b[39;00m\u001b[39m\"\u001b[39m\u001b[39m+\u001b[39m\u001b[39m\"\u001b[39m\u001b[39m=\u001b[39m\u001b[39m\"\u001b[39m\u001b[39m*\u001b[39m\u001b[39m80\u001b[39m)\n",
      "File \u001b[0;32m/home/projects/energymercato/energymercato/src/energymercato/usecases/usecases.py:295\u001b[0m, in \u001b[0;36mcompute_score_hour\u001b[0;34m(players, transaction, transaction_price, h, spot_price, dd, dt)\u001b[0m\n\u001b[1;32m    289\u001b[0m     \u001b[39mif\u001b[39;00m p\u001b[39m.\u001b[39mname \u001b[39m==\u001b[39m t:\n\u001b[1;32m    290\u001b[0m         p\u001b[39m.\u001b[39mscore\u001b[39m.\u001b[39madd_score(\n\u001b[1;32m    291\u001b[0m             amount\u001b[39m=\u001b[39m\u001b[39m-\u001b[39mtransaction_price,\n\u001b[1;32m    292\u001b[0m             date\u001b[39m=\u001b[39mdt\u001b[39m.\u001b[39mreplace(hour\u001b[39m=\u001b[39mh),\n\u001b[1;32m    293\u001b[0m             cause\u001b[39m=\u001b[39m\u001b[39m\"\u001b[39m\u001b[39mSPOT EXCHANGE TRANSACTION\u001b[39m\u001b[39m\"\u001b[39m\n\u001b[1;32m    294\u001b[0m         )\n\u001b[0;32m--> 295\u001b[0m \u001b[39mif\u001b[39;00m p\u001b[39m.\u001b[39mname \u001b[39min\u001b[39;00m dd\u001b[39m.\u001b[39mplayer[dd\u001b[39m.\u001b[39;49mspot_changes \u001b[39m!=\u001b[39m \u001b[39m0\u001b[39m]\u001b[39m.\u001b[39mto_list():\n\u001b[1;32m    296\u001b[0m     p\u001b[39m.\u001b[39mscore\u001b[39m.\u001b[39madd_score(\n\u001b[1;32m    297\u001b[0m         amount\u001b[39m=\u001b[39m\u001b[39mint\u001b[39m(\u001b[39mabs\u001b[39m(dd\u001b[39m.\u001b[39mspot_changes)\u001b[39m.\u001b[39msum())\u001b[39m*\u001b[39mspot_price,\n\u001b[1;32m    298\u001b[0m         date\u001b[39m=\u001b[39mdt\u001b[39m.\u001b[39mreplace(hour\u001b[39m=\u001b[39mh),\n\u001b[1;32m    299\u001b[0m         cause\u001b[39m=\u001b[39m\u001b[39m\"\u001b[39m\u001b[39mSPOT EXCHANGE\u001b[39m\u001b[39m\"\u001b[39m\n\u001b[1;32m    300\u001b[0m     )\n",
      "File \u001b[0;32m/home/projects/energymercato/energymercato/venv/lib/python3.8/site-packages/pandas/core/generic.py:5583\u001b[0m, in \u001b[0;36mNDFrame.__getattr__\u001b[0;34m(self, name)\u001b[0m\n\u001b[1;32m   5576\u001b[0m \u001b[39mif\u001b[39;00m (\n\u001b[1;32m   5577\u001b[0m     name \u001b[39mnot\u001b[39;00m \u001b[39min\u001b[39;00m \u001b[39mself\u001b[39m\u001b[39m.\u001b[39m_internal_names_set\n\u001b[1;32m   5578\u001b[0m     \u001b[39mand\u001b[39;00m name \u001b[39mnot\u001b[39;00m \u001b[39min\u001b[39;00m \u001b[39mself\u001b[39m\u001b[39m.\u001b[39m_metadata\n\u001b[1;32m   5579\u001b[0m     \u001b[39mand\u001b[39;00m name \u001b[39mnot\u001b[39;00m \u001b[39min\u001b[39;00m \u001b[39mself\u001b[39m\u001b[39m.\u001b[39m_accessors\n\u001b[1;32m   5580\u001b[0m     \u001b[39mand\u001b[39;00m \u001b[39mself\u001b[39m\u001b[39m.\u001b[39m_info_axis\u001b[39m.\u001b[39m_can_hold_identifiers_and_holds_name(name)\n\u001b[1;32m   5581\u001b[0m ):\n\u001b[1;32m   5582\u001b[0m     \u001b[39mreturn\u001b[39;00m \u001b[39mself\u001b[39m[name]\n\u001b[0;32m-> 5583\u001b[0m \u001b[39mreturn\u001b[39;00m \u001b[39mobject\u001b[39;49m\u001b[39m.\u001b[39;49m\u001b[39m__getattribute__\u001b[39;49m(\u001b[39mself\u001b[39;49m, name)\n",
      "\u001b[0;31mAttributeError\u001b[0m: 'DataFrame' object has no attribute 'spot_changes'"
     ]
    }
   ],
   "source": [
    "realtime.compute_score()"
   ]
  },
  {
   "cell_type": "code",
   "execution_count": 23,
   "metadata": {},
   "outputs": [],
   "source": [
    "spot.get_scores()"
   ]
  }
 ],
 "metadata": {
  "kernelspec": {
   "display_name": "venv",
   "language": "python",
   "name": "python3"
  },
  "language_info": {
   "codemirror_mode": {
    "name": "ipython",
    "version": 3
   },
   "file_extension": ".py",
   "mimetype": "text/x-python",
   "name": "python",
   "nbconvert_exporter": "python",
   "pygments_lexer": "ipython3",
   "version": "3.8.10"
  },
  "orig_nbformat": 4,
  "vscode": {
   "interpreter": {
    "hash": "f411370ca252c843e234ecdabbab3e27cab4b9e6432fdfda390e2edacac71163"
   }
  }
 },
 "nbformat": 4,
 "nbformat_minor": 2
}
